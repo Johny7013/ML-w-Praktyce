{
 "cells": [
  {
   "cell_type": "markdown",
   "metadata": {},
   "source": [
    "# Assignment 3 \n",
    "# (Author: Jan Klinkosz, id number: 394 342, kaggle nick: Johny7013)"
   ]
  },
  {
   "cell_type": "markdown",
   "metadata": {},
   "source": [
    "First of all we need to import python modules that are necessary to run"
   ]
  },
  {
   "cell_type": "code",
   "execution_count": 1,
   "metadata": {},
   "outputs": [],
   "source": [
    "from __future__ import print_function\n",
    "import argparse\n",
    "import torch\n",
    "import torch.nn as nn\n",
    "import torch.optim as optim\n",
    "from torchvision import datasets, transforms, utils\n",
    "import numpy as np\n",
    "import time\n",
    "import matplotlib.pyplot as plt"
   ]
  },
  {
   "cell_type": "markdown",
   "metadata": {},
   "source": [
    "Neural network class"
   ]
  },
  {
   "cell_type": "code",
   "execution_count": 2,
   "metadata": {},
   "outputs": [],
   "source": [
    "class MyNet2(nn.Module):\n",
    "    def __init__(self):\n",
    "        super(MyNet2, self).__init__()\n",
    "        self.conv1 = nn.Conv2d(1, 32, 3, 1)\n",
    "        self.conv2 = nn.Conv2d(32, 64, 2, 1)\n",
    "        self.conv3 = nn.Conv2d(64, 64, 3, 1)\n",
    "        self.conv4 = nn.Conv2d(64, 64, 3, 1)\n",
    "        self.fc1 = nn.Linear(64 * 4 * 4, 64)\n",
    "        self.fc2 = nn.Linear(64, 10)\n",
    "        # self.fc3 = nn.Linear(100, 10)\n",
    "        self.relu = nn.ReLU()\n",
    "        self.max_pool2d = nn.MaxPool2d(2, 2)\n",
    "        self.log_softmax = nn.LogSoftmax(dim=1)\n",
    "\n",
    "    def forward(self, x):\n",
    "        x = self.relu(self.conv1(x))\n",
    "        x = self.relu(self.conv2(x))\n",
    "        x = self.max_pool2d(x)\n",
    "        x = self.relu(self.conv3(x))\n",
    "        x = self.relu(self.conv4(x))\n",
    "        x = self.max_pool2d(x)\n",
    "        x = x.view(-1, 64 * 4 * 4)\n",
    "        x = self.relu(self.fc1(x))\n",
    "        x = self.fc2(x)\n",
    "        return self.log_softmax(x)\n",
    "\n"
   ]
  },
  {
   "cell_type": "markdown",
   "metadata": {},
   "source": [
    "Function used for training"
   ]
  },
  {
   "cell_type": "code",
   "execution_count": 3,
   "metadata": {},
   "outputs": [],
   "source": [
    "def train(log_interval, model, device, train_loader, optimizer, epoch):\n",
    "    model.train()\n",
    "    for batch_idx, (data, target) in enumerate(train_loader):\n",
    "        data, target = data.to(device), target.to(device)\n",
    "        optimizer.zero_grad()\n",
    "        output = model(data)\n",
    "        loss_f = nn.NLLLoss()\n",
    "        loss = loss_f(output, target)\n",
    "        loss.backward()\n",
    "        optimizer.step()\n",
    "        if batch_idx % log_interval == 0:\n",
    "            print('Train Epoch: {} [{}/{} ({:.0f}%)]\\tLoss: {:.6f}'.format(\n",
    "                epoch, batch_idx * len(data), len(train_loader.dataset),\n",
    "                       100. * batch_idx / len(train_loader), loss.item()))"
   ]
  },
  {
   "cell_type": "markdown",
   "metadata": {},
   "source": [
    "Function for generating predictions"
   ]
  },
  {
   "cell_type": "code",
   "execution_count": 4,
   "metadata": {},
   "outputs": [],
   "source": [
    "def generate_predictions(model, device, test_loader):\n",
    "    model.eval()\n",
    "\n",
    "    predictions = np.zeros((len(test_loader.dataset), 2))\n",
    "    predictions.astype(int)\n",
    "    i = 0\n",
    "\n",
    "    with torch.no_grad():\n",
    "        for batch_idx, (data, _) in enumerate(test_loader):\n",
    "            data = data.to(device)\n",
    "            output = model(data)\n",
    "            pred = output.max(1, keepdim=True)[1]  # get the index of the max log-probability\n",
    "            predictions[i][0] = i\n",
    "            predictions[i][1] = pred\n",
    "            i += 1\n",
    "\n",
    "    np.savetxt('data.csv', predictions, fmt='%d', delimiter=',', header='Id,Class')"
   ]
  },
  {
   "cell_type": "markdown",
   "metadata": {},
   "source": [
    "Training settings"
   ]
  },
  {
   "cell_type": "code",
   "execution_count": 5,
   "metadata": {},
   "outputs": [],
   "source": [
    "batch_size = 100\n",
    "test_batch_size = 100\n",
    "epochs = 8\n",
    "epochs2 = 15\n",
    "epochs3 = 8\n",
    "lr = 0.01\n",
    "momentum = 0.7\n",
    "seed = 1\n",
    "log_interval = 100\n",
    "save_model = False\n",
    "use_cuda = True"
   ]
  },
  {
   "cell_type": "markdown",
   "metadata": {},
   "source": [
    "General Settings"
   ]
  },
  {
   "cell_type": "code",
   "execution_count": 6,
   "metadata": {},
   "outputs": [],
   "source": [
    "torch.manual_seed(seed)\n",
    "\n",
    "device = torch.device(\"cuda\" if use_cuda else \"cpu\")\n",
    "\n",
    "kwargs = {'num_workers': 6, 'pin_memory': True} if use_cuda else {}\n",
    "\n",
    "# values needed to normalise input\n",
    "normalizer = 1. / 256.\n",
    "const_half = 0.5"
   ]
  },
  {
   "cell_type": "markdown",
   "metadata": {},
   "source": [
    "Loading data and providing augmantation\n",
    "(unfortunately I had problems with loading data from file so I used pytorch loaders to load them form internet)"
   ]
  },
  {
   "cell_type": "code",
   "execution_count": 7,
   "metadata": {},
   "outputs": [],
   "source": [
    "# load standard images\n",
    "train_loader = torch.utils.data.DataLoader(\n",
    "    datasets.FashionMNIST('./data', train=True, download=True,\n",
    "                          transform=transforms.Compose([\n",
    "                              transforms.ToTensor(),\n",
    "                              transforms.Normalize((const_half,), (normalizer,))\n",
    "                          ])),\n",
    "    batch_size=batch_size, shuffle=True, **kwargs)\n",
    "\n",
    "# train model on the same images but transformed a little with affine tranformations (augemnation)\n",
    "train_loader2 = torch.utils.data.DataLoader(\n",
    "    datasets.FashionMNIST('./data', train=True, download=True,\n",
    "                          transform=transforms.Compose([\n",
    "                              transforms.RandomAffine(1, translate=(0, 0.1)),\n",
    "                              transforms.ToTensor(),\n",
    "                              transforms.Normalize((const_half,), (normalizer,))\n",
    "                          ])),\n",
    "    batch_size=batch_size, shuffle=True, **kwargs)\n",
    "\n",
    "# This wasn't used (train_loader3) becasue gave really poor results, but it's kind of augmentation i.e. \n",
    "# rotate vertically all images and train model on them. Perhaps there were great problems with shoes, \n",
    "# because all of them are directed to the left of an image, so when net learn on images with shoes \n",
    "# directed to the left I assume it's going to freak out when it gets shoes directed to the right\n",
    "#train_loader3 = torch.utils.data.DataLoader(\n",
    "#    datasets.FashionMNIST('./data', train=True, download=True,\n",
    "#                          transform=transforms.Compose([\n",
    "#                              transforms.RandomVerticalFlip(1),\n",
    "#                              transforms.ToTensor(),\n",
    "#                              transforms.Normalize((const_half,), (normalizer,))\n",
    "#                          ])),\n",
    "#    batch_size=batch_size, shuffle=True, **kwargs)\n",
    "\n",
    "# load test data\n",
    "test_loader = torch.utils.data.DataLoader(\n",
    "    datasets.FashionMNIST('./data', train=False, download=False,\n",
    "                          transform=transforms.Compose([\n",
    "                              transforms.ToTensor(),\n",
    "                              transforms.Normalize((const_half,), (normalizer,))\n",
    "                          ])),\n",
    "    batch_size=1, shuffle=False, **kwargs)"
   ]
  },
  {
   "cell_type": "markdown",
   "metadata": {},
   "source": [
    "# Solution number 1"
   ]
  },
  {
   "cell_type": "markdown",
   "metadata": {},
   "source": [
    "Defining model & optimizer"
   ]
  },
  {
   "cell_type": "code",
   "execution_count": 8,
   "metadata": {},
   "outputs": [],
   "source": [
    "model = MyNet2().to(device)\n",
    "optimizer = optim.SGD(model.parameters(), lr=lr, momentum=momentum)"
   ]
  },
  {
   "cell_type": "markdown",
   "metadata": {},
   "source": [
    "Training"
   ]
  },
  {
   "cell_type": "code",
   "execution_count": 9,
   "metadata": {},
   "outputs": [
    {
     "name": "stdout",
     "output_type": "stream",
     "text": [
      "Train Epoch: 1 [0/60000 (0%)]\tLoss: 2.611808\n",
      "Train Epoch: 1 [10000/60000 (17%)]\tLoss: 0.622516\n",
      "Train Epoch: 1 [20000/60000 (33%)]\tLoss: 0.494013\n",
      "Train Epoch: 1 [30000/60000 (50%)]\tLoss: 0.537474\n",
      "Train Epoch: 1 [40000/60000 (67%)]\tLoss: 0.414850\n",
      "Train Epoch: 1 [50000/60000 (83%)]\tLoss: 0.424023\n",
      "Train Epoch: 2 [0/60000 (0%)]\tLoss: 0.524124\n",
      "Train Epoch: 2 [10000/60000 (17%)]\tLoss: 0.278110\n",
      "Train Epoch: 2 [20000/60000 (33%)]\tLoss: 0.256294\n",
      "Train Epoch: 2 [30000/60000 (50%)]\tLoss: 0.408024\n",
      "Train Epoch: 2 [40000/60000 (67%)]\tLoss: 0.271528\n",
      "Train Epoch: 2 [50000/60000 (83%)]\tLoss: 0.336547\n",
      "Train Epoch: 3 [0/60000 (0%)]\tLoss: 0.235343\n",
      "Train Epoch: 3 [10000/60000 (17%)]\tLoss: 0.224895\n",
      "Train Epoch: 3 [20000/60000 (33%)]\tLoss: 0.235742\n",
      "Train Epoch: 3 [30000/60000 (50%)]\tLoss: 0.250919\n",
      "Train Epoch: 3 [40000/60000 (67%)]\tLoss: 0.303147\n",
      "Train Epoch: 3 [50000/60000 (83%)]\tLoss: 0.188056\n",
      "Train Epoch: 4 [0/60000 (0%)]\tLoss: 0.203110\n",
      "Train Epoch: 4 [10000/60000 (17%)]\tLoss: 0.216504\n",
      "Train Epoch: 4 [20000/60000 (33%)]\tLoss: 0.262557\n",
      "Train Epoch: 4 [30000/60000 (50%)]\tLoss: 0.182054\n",
      "Train Epoch: 4 [40000/60000 (67%)]\tLoss: 0.198706\n",
      "Train Epoch: 4 [50000/60000 (83%)]\tLoss: 0.219455\n",
      "Train Epoch: 5 [0/60000 (0%)]\tLoss: 0.166043\n",
      "Train Epoch: 5 [10000/60000 (17%)]\tLoss: 0.188394\n",
      "Train Epoch: 5 [20000/60000 (33%)]\tLoss: 0.249631\n",
      "Train Epoch: 5 [30000/60000 (50%)]\tLoss: 0.158406\n",
      "Train Epoch: 5 [40000/60000 (67%)]\tLoss: 0.129086\n",
      "Train Epoch: 5 [50000/60000 (83%)]\tLoss: 0.144568\n",
      "Train Epoch: 6 [0/60000 (0%)]\tLoss: 0.193659\n",
      "Train Epoch: 6 [10000/60000 (17%)]\tLoss: 0.179445\n",
      "Train Epoch: 6 [20000/60000 (33%)]\tLoss: 0.090264\n",
      "Train Epoch: 6 [30000/60000 (50%)]\tLoss: 0.247248\n",
      "Train Epoch: 6 [40000/60000 (67%)]\tLoss: 0.275324\n",
      "Train Epoch: 6 [50000/60000 (83%)]\tLoss: 0.251861\n",
      "Train Epoch: 7 [0/60000 (0%)]\tLoss: 0.146827\n",
      "Train Epoch: 7 [10000/60000 (17%)]\tLoss: 0.100259\n",
      "Train Epoch: 7 [20000/60000 (33%)]\tLoss: 0.151525\n",
      "Train Epoch: 7 [30000/60000 (50%)]\tLoss: 0.081811\n",
      "Train Epoch: 7 [40000/60000 (67%)]\tLoss: 0.155689\n",
      "Train Epoch: 7 [50000/60000 (83%)]\tLoss: 0.160246\n",
      "Train Epoch: 8 [0/60000 (0%)]\tLoss: 0.100593\n",
      "Train Epoch: 8 [10000/60000 (17%)]\tLoss: 0.051118\n",
      "Train Epoch: 8 [20000/60000 (33%)]\tLoss: 0.151455\n",
      "Train Epoch: 8 [30000/60000 (50%)]\tLoss: 0.220048\n",
      "Train Epoch: 8 [40000/60000 (67%)]\tLoss: 0.193987\n",
      "Train Epoch: 8 [50000/60000 (83%)]\tLoss: 0.150419\n",
      "Train Epoch: 1 [0/60000 (0%)]\tLoss: 0.357191\n",
      "Train Epoch: 1 [10000/60000 (17%)]\tLoss: 0.342976\n",
      "Train Epoch: 1 [20000/60000 (33%)]\tLoss: 0.358911\n",
      "Train Epoch: 1 [30000/60000 (50%)]\tLoss: 0.173147\n",
      "Train Epoch: 1 [40000/60000 (67%)]\tLoss: 0.137673\n",
      "Train Epoch: 1 [50000/60000 (83%)]\tLoss: 0.249368\n",
      "Train Epoch: 2 [0/60000 (0%)]\tLoss: 0.222753\n",
      "Train Epoch: 2 [10000/60000 (17%)]\tLoss: 0.340202\n",
      "Train Epoch: 2 [20000/60000 (33%)]\tLoss: 0.184311\n",
      "Train Epoch: 2 [30000/60000 (50%)]\tLoss: 0.261315\n",
      "Train Epoch: 2 [40000/60000 (67%)]\tLoss: 0.182379\n",
      "Train Epoch: 2 [50000/60000 (83%)]\tLoss: 0.191038\n",
      "Train Epoch: 3 [0/60000 (0%)]\tLoss: 0.311863\n",
      "Train Epoch: 3 [10000/60000 (17%)]\tLoss: 0.253069\n",
      "Train Epoch: 3 [20000/60000 (33%)]\tLoss: 0.243160\n",
      "Train Epoch: 3 [30000/60000 (50%)]\tLoss: 0.227407\n",
      "Train Epoch: 3 [40000/60000 (67%)]\tLoss: 0.242861\n",
      "Train Epoch: 3 [50000/60000 (83%)]\tLoss: 0.159801\n",
      "Train Epoch: 4 [0/60000 (0%)]\tLoss: 0.066883\n",
      "Train Epoch: 4 [10000/60000 (17%)]\tLoss: 0.257146\n",
      "Train Epoch: 4 [20000/60000 (33%)]\tLoss: 0.143434\n",
      "Train Epoch: 4 [30000/60000 (50%)]\tLoss: 0.260189\n",
      "Train Epoch: 4 [40000/60000 (67%)]\tLoss: 0.267685\n",
      "Train Epoch: 4 [50000/60000 (83%)]\tLoss: 0.132090\n",
      "Train Epoch: 5 [0/60000 (0%)]\tLoss: 0.289486\n",
      "Train Epoch: 5 [10000/60000 (17%)]\tLoss: 0.091708\n",
      "Train Epoch: 5 [20000/60000 (33%)]\tLoss: 0.364693\n",
      "Train Epoch: 5 [30000/60000 (50%)]\tLoss: 0.190985\n",
      "Train Epoch: 5 [40000/60000 (67%)]\tLoss: 0.218769\n",
      "Train Epoch: 5 [50000/60000 (83%)]\tLoss: 0.135627\n",
      "Train Epoch: 6 [0/60000 (0%)]\tLoss: 0.293384\n",
      "Train Epoch: 6 [10000/60000 (17%)]\tLoss: 0.146074\n",
      "Train Epoch: 6 [20000/60000 (33%)]\tLoss: 0.138712\n",
      "Train Epoch: 6 [30000/60000 (50%)]\tLoss: 0.142238\n",
      "Train Epoch: 6 [40000/60000 (67%)]\tLoss: 0.106958\n",
      "Train Epoch: 6 [50000/60000 (83%)]\tLoss: 0.178444\n",
      "Train Epoch: 7 [0/60000 (0%)]\tLoss: 0.220557\n",
      "Train Epoch: 7 [10000/60000 (17%)]\tLoss: 0.137733\n",
      "Train Epoch: 7 [20000/60000 (33%)]\tLoss: 0.125494\n",
      "Train Epoch: 7 [30000/60000 (50%)]\tLoss: 0.242222\n",
      "Train Epoch: 7 [40000/60000 (67%)]\tLoss: 0.196203\n",
      "Train Epoch: 7 [50000/60000 (83%)]\tLoss: 0.164751\n",
      "Train Epoch: 8 [0/60000 (0%)]\tLoss: 0.140325\n",
      "Train Epoch: 8 [10000/60000 (17%)]\tLoss: 0.180618\n",
      "Train Epoch: 8 [20000/60000 (33%)]\tLoss: 0.241077\n",
      "Train Epoch: 8 [30000/60000 (50%)]\tLoss: 0.217892\n",
      "Train Epoch: 8 [40000/60000 (67%)]\tLoss: 0.120897\n",
      "Train Epoch: 8 [50000/60000 (83%)]\tLoss: 0.232526\n",
      "Train Epoch: 9 [0/60000 (0%)]\tLoss: 0.129852\n",
      "Train Epoch: 9 [10000/60000 (17%)]\tLoss: 0.228958\n",
      "Train Epoch: 9 [20000/60000 (33%)]\tLoss: 0.090562\n",
      "Train Epoch: 9 [30000/60000 (50%)]\tLoss: 0.137436\n",
      "Train Epoch: 9 [40000/60000 (67%)]\tLoss: 0.165029\n",
      "Train Epoch: 9 [50000/60000 (83%)]\tLoss: 0.110029\n",
      "Train Epoch: 10 [0/60000 (0%)]\tLoss: 0.077458\n",
      "Train Epoch: 10 [10000/60000 (17%)]\tLoss: 0.181545\n",
      "Train Epoch: 10 [20000/60000 (33%)]\tLoss: 0.216731\n",
      "Train Epoch: 10 [30000/60000 (50%)]\tLoss: 0.220388\n",
      "Train Epoch: 10 [40000/60000 (67%)]\tLoss: 0.193532\n",
      "Train Epoch: 10 [50000/60000 (83%)]\tLoss: 0.116624\n",
      "Train Epoch: 11 [0/60000 (0%)]\tLoss: 0.109657\n",
      "Train Epoch: 11 [10000/60000 (17%)]\tLoss: 0.200348\n",
      "Train Epoch: 11 [20000/60000 (33%)]\tLoss: 0.197658\n",
      "Train Epoch: 11 [30000/60000 (50%)]\tLoss: 0.132942\n",
      "Train Epoch: 11 [40000/60000 (67%)]\tLoss: 0.073982\n",
      "Train Epoch: 11 [50000/60000 (83%)]\tLoss: 0.154545\n",
      "Train Epoch: 12 [0/60000 (0%)]\tLoss: 0.109283\n",
      "Train Epoch: 12 [10000/60000 (17%)]\tLoss: 0.086473\n",
      "Train Epoch: 12 [20000/60000 (33%)]\tLoss: 0.175220\n",
      "Train Epoch: 12 [30000/60000 (50%)]\tLoss: 0.185161\n",
      "Train Epoch: 12 [40000/60000 (67%)]\tLoss: 0.158983\n",
      "Train Epoch: 12 [50000/60000 (83%)]\tLoss: 0.135173\n",
      "Train Epoch: 13 [0/60000 (0%)]\tLoss: 0.101991\n",
      "Train Epoch: 13 [10000/60000 (17%)]\tLoss: 0.074821\n",
      "Train Epoch: 13 [20000/60000 (33%)]\tLoss: 0.207989\n",
      "Train Epoch: 13 [30000/60000 (50%)]\tLoss: 0.203475\n",
      "Train Epoch: 13 [40000/60000 (67%)]\tLoss: 0.111671\n",
      "Train Epoch: 13 [50000/60000 (83%)]\tLoss: 0.188493\n",
      "Train Epoch: 14 [0/60000 (0%)]\tLoss: 0.102010\n",
      "Train Epoch: 14 [10000/60000 (17%)]\tLoss: 0.167276\n",
      "Train Epoch: 14 [20000/60000 (33%)]\tLoss: 0.149942\n",
      "Train Epoch: 14 [30000/60000 (50%)]\tLoss: 0.143027\n",
      "Train Epoch: 14 [40000/60000 (67%)]\tLoss: 0.104227\n",
      "Train Epoch: 14 [50000/60000 (83%)]\tLoss: 0.196964\n",
      "Train Epoch: 15 [0/60000 (0%)]\tLoss: 0.160657\n",
      "Train Epoch: 15 [10000/60000 (17%)]\tLoss: 0.136640\n",
      "Train Epoch: 15 [20000/60000 (33%)]\tLoss: 0.152452\n",
      "Train Epoch: 15 [30000/60000 (50%)]\tLoss: 0.068512\n",
      "Train Epoch: 15 [40000/60000 (67%)]\tLoss: 0.075885\n",
      "Train Epoch: 15 [50000/60000 (83%)]\tLoss: 0.122219\n"
     ]
    }
   ],
   "source": [
    "for epoch in range(1, epochs + 1):\n",
    "    train(log_interval, model, device, train_loader, optimizer, epoch)\n",
    "\n",
    "for epoch in range(1, epochs2 + 1):\n",
    "    train(log_interval, model, device, train_loader2, optimizer, epoch)"
   ]
  },
  {
   "cell_type": "markdown",
   "metadata": {},
   "source": [
    "Generate predictions"
   ]
  },
  {
   "cell_type": "code",
   "execution_count": 10,
   "metadata": {},
   "outputs": [],
   "source": [
    "generate_predictions(model, device, test_loader)"
   ]
  },
  {
   "cell_type": "markdown",
   "metadata": {},
   "source": [
    "Save model if you want"
   ]
  },
  {
   "cell_type": "code",
   "execution_count": 11,
   "metadata": {},
   "outputs": [],
   "source": [
    "if (save_model):\n",
    "    torch.save(model.state_dict(), \"fashion_network.pt\")"
   ]
  },
  {
   "cell_type": "markdown",
   "metadata": {},
   "source": [
    "# Solution number 2"
   ]
  },
  {
   "cell_type": "markdown",
   "metadata": {},
   "source": [
    "Similar to the first one. Small differences in training settings and no augmentation used."
   ]
  },
  {
   "cell_type": "code",
   "execution_count": 12,
   "metadata": {},
   "outputs": [
    {
     "name": "stdout",
     "output_type": "stream",
     "text": [
      "Train Epoch: 1 [0/60000 (0%)]\tLoss: 2.597305\n",
      "Train Epoch: 1 [10000/60000 (17%)]\tLoss: 0.742822\n",
      "Train Epoch: 1 [20000/60000 (33%)]\tLoss: 0.622854\n",
      "Train Epoch: 1 [30000/60000 (50%)]\tLoss: 0.521695\n",
      "Train Epoch: 1 [40000/60000 (67%)]\tLoss: 0.345448\n",
      "Train Epoch: 1 [50000/60000 (83%)]\tLoss: 0.575120\n",
      "Train Epoch: 2 [0/60000 (0%)]\tLoss: 0.555804\n",
      "Train Epoch: 2 [10000/60000 (17%)]\tLoss: 0.402487\n",
      "Train Epoch: 2 [20000/60000 (33%)]\tLoss: 0.262993\n",
      "Train Epoch: 2 [30000/60000 (50%)]\tLoss: 0.341025\n",
      "Train Epoch: 2 [40000/60000 (67%)]\tLoss: 0.474761\n",
      "Train Epoch: 2 [50000/60000 (83%)]\tLoss: 0.389250\n",
      "Train Epoch: 3 [0/60000 (0%)]\tLoss: 0.245732\n",
      "Train Epoch: 3 [10000/60000 (17%)]\tLoss: 0.372512\n",
      "Train Epoch: 3 [20000/60000 (33%)]\tLoss: 0.254649\n",
      "Train Epoch: 3 [30000/60000 (50%)]\tLoss: 0.293042\n",
      "Train Epoch: 3 [40000/60000 (67%)]\tLoss: 0.411458\n",
      "Train Epoch: 3 [50000/60000 (83%)]\tLoss: 0.243275\n",
      "Train Epoch: 4 [0/60000 (0%)]\tLoss: 0.217652\n",
      "Train Epoch: 4 [10000/60000 (17%)]\tLoss: 0.259772\n",
      "Train Epoch: 4 [20000/60000 (33%)]\tLoss: 0.332156\n",
      "Train Epoch: 4 [30000/60000 (50%)]\tLoss: 0.240611\n",
      "Train Epoch: 4 [40000/60000 (67%)]\tLoss: 0.334922\n",
      "Train Epoch: 4 [50000/60000 (83%)]\tLoss: 0.320049\n",
      "Train Epoch: 5 [0/60000 (0%)]\tLoss: 0.228850\n",
      "Train Epoch: 5 [10000/60000 (17%)]\tLoss: 0.317334\n",
      "Train Epoch: 5 [20000/60000 (33%)]\tLoss: 0.163085\n",
      "Train Epoch: 5 [30000/60000 (50%)]\tLoss: 0.250752\n",
      "Train Epoch: 5 [40000/60000 (67%)]\tLoss: 0.313391\n",
      "Train Epoch: 5 [50000/60000 (83%)]\tLoss: 0.284476\n",
      "Train Epoch: 6 [0/60000 (0%)]\tLoss: 0.182514\n",
      "Train Epoch: 6 [10000/60000 (17%)]\tLoss: 0.220562\n",
      "Train Epoch: 6 [20000/60000 (33%)]\tLoss: 0.379007\n",
      "Train Epoch: 6 [30000/60000 (50%)]\tLoss: 0.218596\n",
      "Train Epoch: 6 [40000/60000 (67%)]\tLoss: 0.301232\n",
      "Train Epoch: 6 [50000/60000 (83%)]\tLoss: 0.215900\n",
      "Train Epoch: 7 [0/60000 (0%)]\tLoss: 0.189757\n",
      "Train Epoch: 7 [10000/60000 (17%)]\tLoss: 0.155336\n",
      "Train Epoch: 7 [20000/60000 (33%)]\tLoss: 0.292450\n",
      "Train Epoch: 7 [30000/60000 (50%)]\tLoss: 0.299724\n",
      "Train Epoch: 7 [40000/60000 (67%)]\tLoss: 0.152172\n",
      "Train Epoch: 7 [50000/60000 (83%)]\tLoss: 0.297539\n",
      "Train Epoch: 8 [0/60000 (0%)]\tLoss: 0.150863\n",
      "Train Epoch: 8 [10000/60000 (17%)]\tLoss: 0.239989\n",
      "Train Epoch: 8 [20000/60000 (33%)]\tLoss: 0.151688\n",
      "Train Epoch: 8 [30000/60000 (50%)]\tLoss: 0.293146\n",
      "Train Epoch: 8 [40000/60000 (67%)]\tLoss: 0.113194\n",
      "Train Epoch: 8 [50000/60000 (83%)]\tLoss: 0.220591\n"
     ]
    }
   ],
   "source": [
    "lr = 0.001\n",
    "momentum = 0.9\n",
    "\n",
    "model = MyNet2().to(device)\n",
    "optimizer = optim.SGD(model.parameters(), lr=lr, momentum=momentum)\n",
    "\n",
    "for epoch in range(1, epochs + 1):\n",
    "    train(log_interval, model, device, train_loader, optimizer, epoch)"
   ]
  },
  {
   "cell_type": "markdown",
   "metadata": {},
   "source": [
    "# Visualisation"
   ]
  },
  {
   "cell_type": "markdown",
   "metadata": {},
   "source": [
    "You can see results of normalisation on images"
   ]
  },
  {
   "cell_type": "code",
   "execution_count": 15,
   "metadata": {},
   "outputs": [
    {
     "data": {
      "image/png": "[encoded data removed]",
      "text/plain": [
       "<Figure size 432x288 with 1 Axes>"
      ]
     },
     "metadata": {
      "needs_background": "light"
     },
     "output_type": "display_data"
    },
    {
     "name": "stderr",
     "output_type": "stream",
     "text": [
      "Clipping input data to the valid range for imshow with RGB data ([0..1] for floats or [0..255] for integers).\n"
     ]
    },
    {
     "data": {
      "image/png": "[encoded data removed]",
      "text/plain": [
       "<Figure size 432x288 with 1 Axes>"
      ]
     },
     "metadata": {
      "needs_background": "light"
     },
     "output_type": "display_data"
    }
   ],
   "source": [
    "def imshow(img):\n",
    "    img_un = img * normalizer + const_half # unnormalize\n",
    "    npimg = img_un.numpy()\n",
    "    plt.imshow(np.transpose(npimg, (1, 2, 0)))\n",
    "    plt.show()\n",
    "\n",
    "    #normalised\n",
    "\n",
    "    npimg = img.numpy()\n",
    "    plt.imshow(np.transpose(npimg, (1, 2, 0)))\n",
    "    plt.show()\n",
    "\n",
    "    \n",
    "dataiter = iter(train_loader)\n",
    "images, labels = dataiter.next()\n",
    "\n",
    "# show images\n",
    "imshow(utils.make_grid(images))"
   ]
  },
  {
   "cell_type": "markdown",
   "metadata": {},
   "source": [
    "Due to lack of time caused by exam session and problems with loading data. There was no time for approprite testing. I decided to train my model on all data and test my ideas on kaggle. I know that is not a right approach but it's some."
   ]
  },
  {
   "cell_type": "code",
   "execution_count": null,
   "metadata": {},
   "outputs": [],
   "source": []
  }
 ],
 "metadata": {
  "kernelspec": {
   "display_name": "jk394342_assignment3",
   "language": "python",
   "name": "jk394342_assignment3"
  },
  "language_info": {
   "codemirror_mode": {
    "name": "ipython",
    "version": 3
   },
   "file_extension": ".py",
   "mimetype": "text/x-python",
   "name": "python",
   "nbconvert_exporter": "python",
   "pygments_lexer": "ipython3",
   "version": "3.6.9"
  }
 },
 "nbformat": 4,
 "nbformat_minor": 2
}
